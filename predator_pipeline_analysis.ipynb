{
 "cells": [
  {
   "cell_type": "code",
   "execution_count": 1,
   "metadata": {},
   "outputs": [],
   "source": [
    "import pandas as pd\n",
    "import numpy as np\n",
    "from glob import glob"
   ]
  },
  {
   "cell_type": "markdown",
   "metadata": {},
   "source": [
    "# Analysis of athletes across all 34 compliant universities"
   ]
  },
  {
   "cell_type": "code",
   "execution_count": 2,
   "metadata": {},
   "outputs": [],
   "source": [
    "compliant_schools = [ \n",
    "    \"University of Akron Main Campus\",\n",
    "    \"Arkansas State University-Main Campus\",\n",
    "    \"Boise State University\",\n",
    "    \"Bowling Green State University-Main Campus\",\n",
    "    \"University of Central Arkansas\",\n",
    "    \"Cleveland State University\",\n",
    "    \"Eastern Washington University\",\n",
    "    \"University of Florida\",\n",
    "    \"Georgia Southern University\",\n",
    "    \"Georgia State University\",\n",
    "    \"Georgia Institute of Technology-Main Campus\",\n",
    "    \"Illinois State University\",\n",
    "    \"Kennesaw State University\",\n",
    "    \"University of Kentucky\",\n",
    "    \"University of Louisiana at Lafayette\",\n",
    "    \"Miami University-Oxford\",\n",
    "    \"Michigan State University\", \n",
    "    \"University of New Mexico-Main Campus\",\n",
    "    \"New Mexico State University-Main Campus\",\n",
    "    \"University of North Florida\",\n",
    "    \"Northern Kentucky University\",\n",
    "    \"Ohio State University-Main Campus\",\n",
    "    \"Prairie View A & M University\",\n",
    "    \"Savannah State University\",\n",
    "    \"South Dakota State University\",\n",
    "    \"University of South Florida-Main Campus\",\n",
    "    \"Texas Southern University\",\n",
    "    \"University of Toledo\",\n",
    "    \"University of Central Florida\",\n",
    "    \"The University of Texas at El Paso\",\n",
    "    \"Western Illinois University\",\n",
    "    \"Western Kentucky University\",\n",
    "    \"University of Wyoming\",\n",
    "    \"Youngstown State University\"\n",
    "]"
   ]
  },
  {
   "cell_type": "code",
   "execution_count": 3,
   "metadata": {},
   "outputs": [
    {
     "data": {
      "text/plain": [
       "34"
      ]
     },
     "execution_count": 3,
     "metadata": {},
     "output_type": "execute_result"
    }
   ],
   "source": [
    "len(compliant_schools)"
   ]
  },
  {
   "cell_type": "code",
   "execution_count": 4,
   "metadata": {},
   "outputs": [
    {
     "name": "stdout",
     "output_type": "stream",
     "text": [
      "2014\n",
      "2015\n",
      "2016\n",
      "2017\n",
      "2018\n"
     ]
    }
   ],
   "source": [
    "dfs = []\n",
    "for year in range(2014, 2019):\n",
    "    print(year)\n",
    "    df = pd.read_excel(\"excel/EADA All Data Combined {}-{}_SAS_SPSS_EXCEL/EADA{}.xlsx\".format(year-1, year, year))\n",
    "    df = df.loc[df[\"institution_name\"].isin(compliant_schools)]\n",
    "    df = df[[\"institution_name\",\n",
    "            \"EFTotalCount\", \n",
    "            \"UNDUP_CT_PARTIC_MEN\",\n",
    "            \"UNDUP_CT_PARTIC_WOMEN\",\n",
    "            \"PARTIC_MEN_Football\"\n",
    "            ]] # none of these schools have women's football\n",
    "    df[\"total_athletes\"] = df[\"UNDUP_CT_PARTIC_MEN\"] + df[\"UNDUP_CT_PARTIC_WOMEN\"]\n",
    "    df = df[[\"institution_name\",\n",
    "            \"EFTotalCount\",\n",
    "            \"total_athletes\",\n",
    "            \"PARTIC_MEN_Football\"]]\n",
    "    dfs.append(df)"
   ]
  },
  {
   "cell_type": "code",
   "execution_count": 5,
   "metadata": {},
   "outputs": [
    {
     "data": {
      "text/html": [
       "<div>\n",
       "<style scoped>\n",
       "    .dataframe tbody tr th:only-of-type {\n",
       "        vertical-align: middle;\n",
       "    }\n",
       "\n",
       "    .dataframe tbody tr th {\n",
       "        vertical-align: top;\n",
       "    }\n",
       "\n",
       "    .dataframe thead th {\n",
       "        text-align: right;\n",
       "    }\n",
       "</style>\n",
       "<table border=\"1\" class=\"dataframe\">\n",
       "  <thead>\n",
       "    <tr style=\"text-align: right;\">\n",
       "      <th></th>\n",
       "      <th>institution_name</th>\n",
       "      <th>EFTotalCount</th>\n",
       "      <th>total_athletes</th>\n",
       "      <th>PARTIC_MEN_Football</th>\n",
       "    </tr>\n",
       "  </thead>\n",
       "  <tbody>\n",
       "    <tr>\n",
       "      <th>70</th>\n",
       "      <td>Arkansas State University-Main Campus</td>\n",
       "      <td>7557</td>\n",
       "      <td>341</td>\n",
       "      <td>120.0</td>\n",
       "    </tr>\n",
       "    <tr>\n",
       "      <th>73</th>\n",
       "      <td>University of Central Arkansas</td>\n",
       "      <td>8237</td>\n",
       "      <td>398</td>\n",
       "      <td>98.0</td>\n",
       "    </tr>\n",
       "    <tr>\n",
       "      <th>320</th>\n",
       "      <td>University of Central Florida</td>\n",
       "      <td>36096</td>\n",
       "      <td>443</td>\n",
       "      <td>112.0</td>\n",
       "    </tr>\n",
       "    <tr>\n",
       "      <th>337</th>\n",
       "      <td>University of Florida</td>\n",
       "      <td>30054</td>\n",
       "      <td>486</td>\n",
       "      <td>131.0</td>\n",
       "    </tr>\n",
       "    <tr>\n",
       "      <th>346</th>\n",
       "      <td>University of North Florida</td>\n",
       "      <td>9990</td>\n",
       "      <td>272</td>\n",
       "      <td>NaN</td>\n",
       "    </tr>\n",
       "  </tbody>\n",
       "</table>\n",
       "</div>"
      ],
      "text/plain": [
       "                          institution_name  EFTotalCount  total_athletes  \\\n",
       "70   Arkansas State University-Main Campus          7557             341   \n",
       "73          University of Central Arkansas          8237             398   \n",
       "320          University of Central Florida         36096             443   \n",
       "337                  University of Florida         30054             486   \n",
       "346            University of North Florida          9990             272   \n",
       "\n",
       "     PARTIC_MEN_Football  \n",
       "70                 120.0  \n",
       "73                  98.0  \n",
       "320                112.0  \n",
       "337                131.0  \n",
       "346                  NaN  "
      ]
     },
     "execution_count": 5,
     "metadata": {},
     "output_type": "execute_result"
    }
   ],
   "source": [
    "all_schools = pd.concat(dfs, sort=False)\n",
    "all_schools.head()"
   ]
  },
  {
   "cell_type": "code",
   "execution_count": 6,
   "metadata": {},
   "outputs": [
    {
     "data": {
      "text/plain": [
       "Prairie View A & M University                  5\n",
       "Georgia Institute of Technology-Main Campus    5\n",
       "Boise State University                         5\n",
       "Kennesaw State University                      5\n",
       "Western Kentucky University                    5\n",
       "Georgia State University                       5\n",
       "Georgia Southern University                    5\n",
       "Ohio State University-Main Campus              5\n",
       "University of New Mexico-Main Campus           5\n",
       "Bowling Green State University-Main Campus     5\n",
       "New Mexico State University-Main Campus        5\n",
       "The University of Texas at El Paso             5\n",
       "Texas Southern University                      5\n",
       "University of Florida                          5\n",
       "Western Illinois University                    5\n",
       "Arkansas State University-Main Campus          5\n",
       "University of Akron Main Campus                5\n",
       "University of Kentucky                         5\n",
       "University of Central Arkansas                 5\n",
       "University of Toledo                           5\n",
       "Miami University-Oxford                        5\n",
       "University of North Florida                    5\n",
       "Savannah State University                      5\n",
       "Illinois State University                      5\n",
       "Michigan State University                      5\n",
       "Northern Kentucky University                   5\n",
       "Cleveland State University                     5\n",
       "Eastern Washington University                  5\n",
       "University of Louisiana at Lafayette           5\n",
       "South Dakota State University                  5\n",
       "University of Central Florida                  5\n",
       "Youngstown State University                    5\n",
       "University of Wyoming                          5\n",
       "University of South Florida-Main Campus        5\n",
       "Name: institution_name, dtype: int64"
      ]
     },
     "execution_count": 6,
     "metadata": {},
     "output_type": "execute_result"
    }
   ],
   "source": [
    "all_schools['institution_name'].value_counts()"
   ]
  },
  {
   "cell_type": "code",
   "execution_count": 7,
   "metadata": {},
   "outputs": [
    {
     "name": "stdout",
     "output_type": "stream",
     "text": [
      "(510754.60000000003, 14182.6)\n"
     ]
    }
   ],
   "source": [
    "avg_students = all_schools[\"EFTotalCount\"].mean() *34\n",
    "avg_athletes = all_schools[\"total_athletes\"].mean() *34\n",
    "print(avg_students, avg_athletes)"
   ]
  },
  {
   "cell_type": "code",
   "execution_count": 8,
   "metadata": {},
   "outputs": [
    {
     "data": {
      "text/plain": [
       "496572.00000000006"
      ]
     },
     "execution_count": 8,
     "metadata": {},
     "output_type": "execute_result"
    }
   ],
   "source": [
    "avg_nonathletes = avg_students - avg_athletes\n",
    "avg_nonathletes"
   ]
  },
  {
   "cell_type": "code",
   "execution_count": 9,
   "metadata": {},
   "outputs": [
    {
     "data": {
      "text/plain": [
       "2.7767933954975637"
      ]
     },
     "execution_count": 9,
     "metadata": {},
     "output_type": "execute_result"
    }
   ],
   "source": [
    "pct_of_students_who_are_athletes = avg_athletes/avg_students * 100\n",
    "pct_of_students_who_are_athletes"
   ]
  },
  {
   "cell_type": "code",
   "execution_count": 10,
   "metadata": {},
   "outputs": [],
   "source": [
    "students_found_responsible = float(531)\n",
    "students_found_responsible_who_are_athletes = float(47)"
   ]
  },
  {
   "cell_type": "code",
   "execution_count": 11,
   "metadata": {},
   "outputs": [
    {
     "data": {
      "text/plain": [
       "8.851224105461393"
      ]
     },
     "execution_count": 11,
     "metadata": {},
     "output_type": "execute_result"
    }
   ],
   "source": [
    "pct_of_students_found_responsible_who_are_athletes = students_found_responsible_who_are_athletes/students_found_responsible * 100\n",
    "pct_of_students_found_responsible_who_are_athletes"
   ]
  },
  {
   "cell_type": "code",
   "execution_count": 12,
   "metadata": {},
   "outputs": [
    {
     "data": {
      "text/plain": [
       "3.187570281538852"
      ]
     },
     "execution_count": 12,
     "metadata": {},
     "output_type": "execute_result"
    }
   ],
   "source": [
    "rate = pct_of_students_found_responsible_who_are_athletes/pct_of_students_who_are_athletes\n",
    "rate"
   ]
  },
  {
   "cell_type": "markdown",
   "metadata": {},
   "source": [
    "# Analysis of football players across 31 compliant football universities"
   ]
  },
  {
   "cell_type": "code",
   "execution_count": 13,
   "metadata": {},
   "outputs": [
    {
     "data": {
      "text/html": [
       "<div>\n",
       "<style scoped>\n",
       "    .dataframe tbody tr th:only-of-type {\n",
       "        vertical-align: middle;\n",
       "    }\n",
       "\n",
       "    .dataframe tbody tr th {\n",
       "        vertical-align: top;\n",
       "    }\n",
       "\n",
       "    .dataframe thead th {\n",
       "        text-align: right;\n",
       "    }\n",
       "</style>\n",
       "<table border=\"1\" class=\"dataframe\">\n",
       "  <thead>\n",
       "    <tr style=\"text-align: right;\">\n",
       "      <th></th>\n",
       "      <th>institution_name</th>\n",
       "      <th>EFTotalCount</th>\n",
       "      <th>total_athletes</th>\n",
       "      <th>PARTIC_MEN_Football</th>\n",
       "    </tr>\n",
       "  </thead>\n",
       "  <tbody>\n",
       "    <tr>\n",
       "      <th>70</th>\n",
       "      <td>Arkansas State University-Main Campus</td>\n",
       "      <td>7557</td>\n",
       "      <td>341</td>\n",
       "      <td>120.0</td>\n",
       "    </tr>\n",
       "    <tr>\n",
       "      <th>73</th>\n",
       "      <td>University of Central Arkansas</td>\n",
       "      <td>8237</td>\n",
       "      <td>398</td>\n",
       "      <td>98.0</td>\n",
       "    </tr>\n",
       "    <tr>\n",
       "      <th>320</th>\n",
       "      <td>University of Central Florida</td>\n",
       "      <td>36096</td>\n",
       "      <td>443</td>\n",
       "      <td>112.0</td>\n",
       "    </tr>\n",
       "    <tr>\n",
       "      <th>337</th>\n",
       "      <td>University of Florida</td>\n",
       "      <td>30054</td>\n",
       "      <td>486</td>\n",
       "      <td>131.0</td>\n",
       "    </tr>\n",
       "    <tr>\n",
       "      <th>362</th>\n",
       "      <td>University of South Florida-Main Campus</td>\n",
       "      <td>23440</td>\n",
       "      <td>436</td>\n",
       "      <td>105.0</td>\n",
       "    </tr>\n",
       "  </tbody>\n",
       "</table>\n",
       "</div>"
      ],
      "text/plain": [
       "                            institution_name  EFTotalCount  total_athletes  \\\n",
       "70     Arkansas State University-Main Campus          7557             341   \n",
       "73            University of Central Arkansas          8237             398   \n",
       "320            University of Central Florida         36096             443   \n",
       "337                    University of Florida         30054             486   \n",
       "362  University of South Florida-Main Campus         23440             436   \n",
       "\n",
       "     PARTIC_MEN_Football  \n",
       "70                 120.0  \n",
       "73                  98.0  \n",
       "320                112.0  \n",
       "337                131.0  \n",
       "362                105.0  "
      ]
     },
     "execution_count": 13,
     "metadata": {},
     "output_type": "execute_result"
    }
   ],
   "source": [
    "football_schools = all_schools.dropna()\n",
    "football_schools.head()"
   ]
  },
  {
   "cell_type": "code",
   "execution_count": 14,
   "metadata": {},
   "outputs": [
    {
     "data": {
      "text/plain": [
       "31"
      ]
     },
     "execution_count": 14,
     "metadata": {},
     "output_type": "execute_result"
    }
   ],
   "source": [
    "len(set(football_schools[\"institution_name\"].tolist()))"
   ]
  },
  {
   "cell_type": "code",
   "execution_count": 15,
   "metadata": {},
   "outputs": [
    {
     "name": "stdout",
     "output_type": "stream",
     "text": [
      "(482490.038961039, 3488.305194805195)\n"
     ]
    }
   ],
   "source": [
    "fb_avg_students = football_schools[\"EFTotalCount\"].mean() * 31 \n",
    "fb_avg_football_players = football_schools[\"PARTIC_MEN_Football\"].mean() * 31\n",
    "print(fb_avg_students, fb_avg_football_players)"
   ]
  },
  {
   "cell_type": "code",
   "execution_count": 16,
   "metadata": {},
   "outputs": [
    {
     "data": {
      "text/plain": [
       "479001.7337662338"
      ]
     },
     "execution_count": 16,
     "metadata": {},
     "output_type": "execute_result"
    }
   ],
   "source": [
    "fb_avg_nonfootball = fb_avg_students - fb_avg_football_players\n",
    "fb_avg_nonfootball"
   ]
  },
  {
   "cell_type": "code",
   "execution_count": 17,
   "metadata": {},
   "outputs": [
    {
     "data": {
      "text/plain": [
       "0.7229797328700656"
      ]
     },
     "execution_count": 17,
     "metadata": {},
     "output_type": "execute_result"
    }
   ],
   "source": [
    "fb_pct_of_students_who_play_football = fb_avg_football_players/fb_avg_students * 100\n",
    "fb_pct_of_students_who_play_football"
   ]
  },
  {
   "cell_type": "code",
   "execution_count": 18,
   "metadata": {},
   "outputs": [],
   "source": [
    "fb_students_found_responsible = float(494)\n",
    "fb_students_found_responsible_who_play_football = float(30)"
   ]
  },
  {
   "cell_type": "code",
   "execution_count": 19,
   "metadata": {},
   "outputs": [
    {
     "data": {
      "text/plain": [
       "6.0728744939271255"
      ]
     },
     "execution_count": 19,
     "metadata": {},
     "output_type": "execute_result"
    }
   ],
   "source": [
    "fb_pct_of_students_found_responsible_who_play_football = fb_students_found_responsible_who_play_football/fb_students_found_responsible * 100\n",
    "fb_pct_of_students_found_responsible_who_play_football\n"
   ]
  },
  {
   "cell_type": "code",
   "execution_count": 20,
   "metadata": {},
   "outputs": [
    {
     "data": {
      "text/plain": [
       "8.399785246841141"
      ]
     },
     "execution_count": 20,
     "metadata": {},
     "output_type": "execute_result"
    }
   ],
   "source": [
    "fb_rate = fb_pct_of_students_found_responsible_who_play_football/fb_pct_of_students_who_play_football\n",
    "fb_rate"
   ]
  }
 ],
 "metadata": {
  "kernelspec": {
   "display_name": "Python 2",
   "language": "python",
   "name": "python2"
  },
  "language_info": {
   "codemirror_mode": {
    "name": "ipython",
    "version": 2
   },
   "file_extension": ".py",
   "mimetype": "text/x-python",
   "name": "python",
   "nbconvert_exporter": "python",
   "pygments_lexer": "ipython2",
   "version": "2.7.10"
  }
 },
 "nbformat": 4,
 "nbformat_minor": 2
}
